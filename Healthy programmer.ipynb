{
 "cells": [
  {
   "cell_type": "code",
   "execution_count": null,
   "id": "987b9a88-aba9-41da-834a-c4f253090805",
   "metadata": {},
   "outputs": [],
   "source": [
    "from time import time\n",
    "def honey(file,stopper): #funtion file and stopper\n",
    "    mixer.init()\n",
    "    mixer.music.load(file)\n",
    "    mixer.music.set_volume(0.7)\n",
    "    mixer.music.play()\n",
    "    while True: #loop\n",
    "        user=input()\n",
    "        if user==stopper:\n",
    "            mixer.music.stop()\n",
    "            break\n",
    "# water file\n",
    "def water(w):\n",
    "    with open(\"water.txt\",\"a\") as f:\n",
    "        f.write(f\"{w} {datetime.now()}\\n\")\n",
    "#eyes file\n",
    "def eyes(e):\n",
    "    with open(\"eyes.txt\",\"a\") as f:\n",
    "        f.write(f\"{e} {datetime.now()}\\n\")\n",
    "#pysical activety file\n",
    "def phy(p):\n",
    "    with open(\"phy.txt\",\"a\") as f:\n",
    "        f.write(f\"{p} {datetime.now()}\\n\")\n",
    "if __name__ == '__main__':\n",
    "    w_water=time()\n",
    "    e_eyes=time()\n",
    "    p_physical=time()\n",
    "\n",
    "    water_sec=0.1*60\n",
    "    eyes_sec=0.1*60\n",
    "    physical_sec=0.1*60\n",
    "    while True:\n",
    "        if time() - w_water > water_sec:\n",
    "            print(\"water drinking time bro:\\nEnter D to stop Alarm.\")\n",
    "            honey(\"song.mp3\",\"D\")\n",
    "            w_water=time()\n",
    "            water(\"Water drank at:\")\n",
    "        if time() - e_eyes > eyes_sec:\n",
    "            print(\"Eyes exercise time bro:\\nEnter E to stop.\")\n",
    "            honey(\"Water.mp3\",\"e\")\n",
    "            e_eyes==time()\n",
    "            eyes(\"eyes exercise\")\n",
    "        if time() - p_physical > physical_sec:\n",
    "            print(\"work out time bro:\\nEnter p to stop.\")\n",
    "            honey(\"eye.mp3\",\"p\")\n",
    "            p_physical=time()\n",
    "            phy(\"phically activety\")\n",
    "            break"
   ]
  }
 ],
 "metadata": {
  "kernelspec": {
   "display_name": "Python 3 (ipykernel)",
   "language": "python",
   "name": "python3"
  },
  "language_info": {
   "codemirror_mode": {
    "name": "ipython",
    "version": 3
   },
   "file_extension": ".py",
   "mimetype": "text/x-python",
   "name": "python",
   "nbconvert_exporter": "python",
   "pygments_lexer": "ipython3",
   "version": "3.12.4"
  }
 },
 "nbformat": 4,
 "nbformat_minor": 5
}
